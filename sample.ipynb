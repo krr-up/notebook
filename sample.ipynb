{
 "cells": [
  {
   "cell_type": "markdown",
   "metadata": {},
   "source": [
    "#### For running the cell, simply click on the cell and then either click the button Run or press Ctrl+Enter."
   ]
  },
  {
   "cell_type": "markdown",
   "metadata": {},
   "source": [
    "## There are two options for running clingo:"
   ]
  },
  {
   "cell_type": "markdown",
   "metadata": {},
   "source": [
    "### 1. `%%clingo` : Magic cell command for an answer set program specificied in the cell"
   ]
  },
  {
   "cell_type": "code",
   "execution_count": 1,
   "metadata": {},
   "outputs": [
    {
     "name": "stdout",
     "output_type": "stream",
     "text": [
      "clingo version 5.4.0\n",
      "Reading from stdin\n",
      "Solving...\n",
      "Answer: 1\n",
      "q\n",
      "SATISFIABLE\n",
      "\n",
      "Models       : 1+\n",
      "Calls        : 1\n",
      "Time         : 0.001s (Solving: 0.00s 1st Model: 0.00s Unsat: 0.00s)\n",
      "CPU Time     : 0.001s\n"
     ]
    }
   ],
   "source": [
    "%%clingo \n",
    "p:- not q.\n",
    "q:- not p."
   ]
  },
  {
   "cell_type": "markdown",
   "metadata": {},
   "source": [
    " We use `%%clingo` as an alias for  `%%script --no-raise-error clingo`, where `%%script` is a built-in magic-command in ipython."
   ]
  },
  {
   "cell_type": "code",
   "execution_count": 2,
   "metadata": {},
   "outputs": [
    {
     "name": "stdout",
     "output_type": "stream",
     "text": [
      "clingo version 5.4.0\n",
      "Reading from stdin\n",
      "Solving...\n",
      "Answer: 1\n",
      "q\n",
      "SATISFIABLE\n",
      "\n",
      "Models       : 1+\n",
      "Calls        : 1\n",
      "Time         : 0.000s (Solving: 0.00s 1st Model: 0.00s Unsat: 0.00s)\n",
      "CPU Time     : 0.000s\n"
     ]
    }
   ],
   "source": [
    "%%script --no-raise-error clingo \n",
    "p:- not q.\n",
    "q:- not p."
   ]
  },
  {
   "cell_type": "markdown",
   "metadata": {},
   "source": [
    "### 2. Using `!clingo` as a shell command for an answer set program saved in a file "
   ]
  },
  {
   "cell_type": "markdown",
   "metadata": {},
   "source": [
    "Write the problem encoding to a new file"
   ]
  },
  {
   "cell_type": "code",
   "execution_count": 1,
   "metadata": {},
   "outputs": [
    {
     "name": "stdout",
     "output_type": "stream",
     "text": [
      "Writing suspect.lp\n"
     ]
    }
   ],
   "source": [
    "%%writefile suspect.lp\n",
    "innocent(Suspect) :- motive(Suspect), not guilty(Suspect)."
   ]
  },
  {
   "cell_type": "markdown",
   "metadata": {},
   "source": [
    "Append the problem instance to the file"
   ]
  },
  {
   "cell_type": "code",
   "execution_count": 2,
   "metadata": {},
   "outputs": [
    {
     "name": "stdout",
     "output_type": "stream",
     "text": [
      "Appending to suspect.lp\n"
     ]
    }
   ],
   "source": [
    "%%writefile -a suspect.lp\n",
    "motive(harry).\n",
    "motive(sally).\n",
    "guilty(harry)."
   ]
  },
  {
   "cell_type": "markdown",
   "metadata": {},
   "source": [
    "View the file with the !cat command. Simiarly you can use any shell command in a cell."
   ]
  },
  {
   "cell_type": "code",
   "execution_count": 4,
   "metadata": {},
   "outputs": [
    {
     "name": "stdout",
     "output_type": "stream",
     "text": [
      "innocent(Suspect) :- motive(Suspect), not guilty(Suspect).\r\n",
      "motive(harry).\r\n",
      "motive(sally).\r\n",
      "guilty(harry).\r\n"
     ]
    }
   ],
   "source": [
    "!cat suspect.lp"
   ]
  },
  {
   "cell_type": "markdown",
   "metadata": {},
   "source": [
    "`!clingo` for running an answer set program saved in the file `suspect.lp`"
   ]
  },
  {
   "cell_type": "code",
   "execution_count": 5,
   "metadata": {},
   "outputs": [
    {
     "name": "stdout",
     "output_type": "stream",
     "text": [
      "clingo version 5.4.0\r\n",
      "Reading from suspect.lp\r\n",
      "Solving...\r\n",
      "Answer: 1\r\n",
      "motive(harry) motive(sally) guilty(harry) innocent(sally)\r\n",
      "SATISFIABLE\r\n",
      "\r\n",
      "Models       : 1\r\n",
      "Calls        : 1\r\n",
      "Time         : 0.001s (Solving: 0.00s 1st Model: 0.00s Unsat: 0.00s)\r\n",
      "CPU Time     : 0.004s\r\n"
     ]
    }
   ],
   "source": [
    "!clingo suspect.lp"
   ]
  }
 ],
 "metadata": {
  "kernelspec": {
   "display_name": "Python 3",
   "language": "python",
   "name": "python3"
  },
  "language_info": {
   "codemirror_mode": {
    "name": "ipython",
    "version": 3
   },
   "file_extension": ".py",
   "mimetype": "text/x-python",
   "name": "python",
   "nbconvert_exporter": "python",
   "pygments_lexer": "ipython3",
   "version": "3.7.7"
  }
 },
 "nbformat": 4,
 "nbformat_minor": 2
}
