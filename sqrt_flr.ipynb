{
 "cells": [
  {
   "cell_type": "markdown",
   "metadata": {},
   "source": [
    "## 1. Write the problem"
   ]
  },
  {
   "cell_type": "markdown",
   "metadata": {},
   "source": [
    "Find the floor of the +ve square root of a whole number"
   ]
  },
  {
   "cell_type": "markdown",
   "metadata": {},
   "source": [
    "## 2. Write the specification from the problem"
   ]
  },
  {
   "cell_type": "markdown",
   "metadata": {},
   "source": [
    "### Input: integer n"
   ]
  },
  {
   "cell_type": "code",
   "execution_count": 2,
   "metadata": {},
   "outputs": [
    {
     "name": "stdout",
     "output_type": "stream",
     "text": [
      "Writing sqrt_flr.spec\n"
     ]
    }
   ],
   "source": [
    "%%writefile sqrt_flr.spec\n",
    "input: n -> integer."
   ]
  },
  {
   "cell_type": "markdown",
   "metadata": {},
   "source": [
    "### Assumption: n >= 0."
   ]
  },
  {
   "cell_type": "code",
   "execution_count": 3,
   "metadata": {},
   "outputs": [
    {
     "name": "stdout",
     "output_type": "stream",
     "text": [
      "Appending to sqrt_flr.spec\n"
     ]
    }
   ],
   "source": [
    "%%writefile -a sqrt_flr.spec\n",
    "assume: n >= 0."
   ]
  },
  {
   "cell_type": "markdown",
   "metadata": {},
   "source": [
    "### Output: sqrt_flr/1 is the output predicate defining floor of the square root of a whole number"
   ]
  },
  {
   "cell_type": "code",
   "execution_count": 4,
   "metadata": {},
   "outputs": [
    {
     "name": "stdout",
     "output_type": "stream",
     "text": [
      "Appending to sqrt_flr.spec\n"
     ]
    }
   ],
   "source": [
    "%%writefile -a sqrt_flr.spec\n",
    "output: sqrt_flr/1."
   ]
  },
  {
   "cell_type": "markdown",
   "metadata": {},
   "source": [
    "### Specification"
   ]
  },
  {
   "cell_type": "markdown",
   "metadata": {},
   "source": [
    "#### 1. The floor of  the +ve square root is a whole number ."
   ]
  },
  {
   "cell_type": "code",
   "execution_count": 5,
   "metadata": {},
   "outputs": [
    {
     "name": "stdout",
     "output_type": "stream",
     "text": [
      "Appending to sqrt_flr.spec\n"
     ]
    }
   ],
   "source": [
    "%%writefile -a sqrt_flr.spec\n",
    "spec: forall X (sqrt_flr(X) -> exists N (X = N and N >= 0))."
   ]
  },
  {
   "cell_type": "markdown",
   "metadata": {},
   "source": [
    "#### 2.  A whole number $\\text{N}$ is the floor of sqrt of the whole number n iff $\\text{N}^2$<=n and $\\text{(N+1)}^2$>n."
   ]
  },
  {
   "cell_type": "code",
   "execution_count": 6,
   "metadata": {},
   "outputs": [
    {
     "name": "stdout",
     "output_type": "stream",
     "text": [
      "Appending to sqrt_flr.spec\n"
     ]
    }
   ],
   "source": [
    "%%writefile -a sqrt_flr.spec\n",
    "spec: forall N (sqrt_flr(N) <-> N * N <= n and (N + 1) * (N + 1) > n)."
   ]
  },
  {
   "cell_type": "markdown",
   "metadata": {},
   "source": [
    "### 3. Write the program from the specification"
   ]
  },
  {
   "cell_type": "markdown",
   "metadata": {},
   "source": [
    "A whole number $\\text{N}$ is the floor of sqrt of the whole number n iff $\\text{N}^2$<=n : sq_below_n(N) and $\\text{(N+1)}^2$>n: not sq_below_n(N+1)."
   ]
  },
  {
   "cell_type": "code",
   "execution_count": 7,
   "metadata": {},
   "outputs": [
    {
     "name": "stdout",
     "output_type": "stream",
     "text": [
      "Writing sqrt_flr.lp\n"
     ]
    }
   ],
   "source": [
    "%%writefile sqrt_flr.lp\n",
    "sqrt_flr(X) :- sq_below_n(X), not sq_below_n(X + 1).\n",
    "#show sqrt_flr/1."
   ]
  },
  {
   "cell_type": "markdown",
   "metadata": {},
   "source": [
    " sq_below_n(N): a whole number $\\text{N}$ and $\\text{N}^2$<=n."
   ]
  },
  {
   "cell_type": "code",
   "execution_count": 8,
   "metadata": {},
   "outputs": [
    {
     "name": "stdout",
     "output_type": "stream",
     "text": [
      "Appending to sqrt_flr.lp\n"
     ]
    }
   ],
   "source": [
    "%%writefile -a sqrt_flr.lp\n",
    "sq_below_n(X) :-X = 0..n, X * X <= n."
   ]
  },
  {
   "cell_type": "code",
   "execution_count": 9,
   "metadata": {},
   "outputs": [
    {
     "name": "stdout",
     "output_type": "stream",
     "text": [
      "clingo version 5.4.0\r\n",
      "Reading from sqrt_flr.lp\r\n",
      "Solving...\r\n",
      "Answer: 1\r\n",
      "sqrt_flr(5)\r\n",
      "SATISFIABLE\r\n",
      "\r\n",
      "Models       : 1\r\n",
      "Calls        : 1\r\n",
      "Time         : 0.001s (Solving: 0.00s 1st Model: 0.00s Unsat: 0.00s)\r\n",
      "CPU Time     : 0.001s\r\n"
     ]
    }
   ],
   "source": [
    "!clingo sqrt_flr.lp 0 --const n=30"
   ]
  },
  {
   "cell_type": "markdown",
   "metadata": {},
   "source": [
    "### 4. Verify specification with anthem"
   ]
  },
  {
   "cell_type": "code",
   "execution_count": 10,
   "metadata": {},
   "outputs": [
    {
     "name": "stdout",
     "output_type": "stream",
     "text": [
      "\u001b[0m\u001b[0m\u001b[1m\u001b[32m     Started \u001b[0m\u001b[0m\u001b[0mverification of specification from translated program\u001b[0m\n",
      "\u001b[0m\u001b[0m\u001b[1m\u001b[32m Presupposed \u001b[0m\u001b[0m\u001b[0massumption: \u001b[0mn >= 0\n",
      "\u001b[0m\u001b[0m\u001b[1m\u001b[32m Presupposed \u001b[0m\u001b[0m\u001b[0mcompleted definition of sq_below_n/1: \u001b[0mforall X1 (sq_below_n(X1) <-> exists N1 (0 <= N1 and N1 <= n and X1 = N1) and exists X2 (exists N2, N3 (X2 = N2 * N3 and N2 = X1 and N3 = X1) and X2 <= n))\n",
      "\u001b[0m\u001b[0m\u001b[1m\u001b[32m Presupposed \u001b[0m\u001b[0m\u001b[0mcompleted definition of sqrt_flr/1: \u001b[0mforall X1 (sqrt_flr(X1) <-> sq_below_n(X1) and exists X2 (exists N (X2 = N + 1 and N = X1) and not sq_below_n(X2)))\n",
      "\u001b[s\u001b[0m\u001b[0m\u001b[1m\u001b[36m   Verifying \u001b[0m\u001b[0m\u001b[0mspec: \u001b[0mforall X (sqrt_flr(X) -> exists N (X = N and N >= 0))\u001b[u\u001b[2K\u001b[0m\u001b[0m\u001b[1m\u001b[32m    Verified \u001b[0m\u001b[0m\u001b[0mspec: \u001b[0mforall X (sqrt_flr(X) -> exists N (X = N and N >= 0))\u001b[0m\u001b[0m\u001b[38;5;8m in 0.095 seconds\u001b[0m\u001b[0m\u001b[0m\u001b[0m\n",
      "\u001b[s\u001b[0m\u001b[0m\u001b[1m\u001b[36m   Verifying \u001b[0m\u001b[0m\u001b[0mspec: \u001b[0mforall N (sqrt_flr(N) <-> N * N <= n and (N + 1) * (N + 1) > n)\u001b[u\u001b[2K\u001b[0m\u001b[0m\u001b[1m\u001b[33m   Verifying \u001b[0m\u001b[0m\u001b[0mspec: \u001b[0mforall N (sqrt_flr(N) <-> N * N <= n and (N + 1) * (N + 1) > n) (not proven)\u001b[0m\u001b[0m\u001b[0m\n",
      "\u001b[0m\u001b[0m\u001b[1m\u001b[33m    Finished \u001b[0mverification of specification from translated program\n",
      "\n",
      "\u001b[0m\u001b[0m\u001b[1m\u001b[32m     Started \u001b[0m\u001b[0m\u001b[0mverification of translated program from specification\u001b[0m\n",
      "\u001b[0m\u001b[0m\u001b[1m\u001b[32m Presupposed \u001b[0m\u001b[0m\u001b[0massumption: \u001b[0mn >= 0\n",
      "\u001b[0m\u001b[0m\u001b[1m\u001b[32m Presupposed \u001b[0m\u001b[0m\u001b[0mcompleted definition of sq_below_n/1: \u001b[0mforall X1 (sq_below_n(X1) <-> exists N1 (0 <= N1 and N1 <= n and X1 = N1) and exists X2 (exists N2, N3 (X2 = N2 * N3 and N2 = X1 and N3 = X1) and X2 <= n))\n",
      "\u001b[0m\u001b[0m\u001b[1m\u001b[32m Presupposed \u001b[0m\u001b[0m\u001b[0mspec: \u001b[0mforall X (sqrt_flr(X) -> exists N (X = N and N >= 0))\n",
      "\u001b[0m\u001b[0m\u001b[1m\u001b[32m Presupposed \u001b[0m\u001b[0m\u001b[0mspec: \u001b[0mforall N (sqrt_flr(N) <-> N * N <= n and (N + 1) * (N + 1) > n)\n",
      "\u001b[s\u001b[0m\u001b[0m\u001b[1m\u001b[36m   Verifying \u001b[0m\u001b[0m\u001b[0mcompleted definition of sqrt_flr/1: \u001b[0mforall X1 (sqrt_flr(X1) <-> sq_below_n(X1) and exists X2 (exists N (X2 = N + 1 and N = X1) and not sq_below_n(X2)))\u001b[u\u001b[2K\u001b[0m\u001b[0m\u001b[1m\u001b[33m   Verifying \u001b[0m\u001b[0m\u001b[0mcompleted definition of sqrt_flr/1: \u001b[0mforall X1 (sqrt_flr(X1) <-> sq_below_n(X1) and exists X2 (exists N (X2 = N + 1 and N = X1) and not sq_below_n(X2))) (not proven)\u001b[0m\u001b[0m\u001b[0m\n",
      "\u001b[0m\u001b[0m\u001b[1m\u001b[33m    Finished \u001b[0mverification of translated program from specification\n"
     ]
    }
   ],
   "source": [
    "!anthem verify-program sqrt_flr.{lp,spec} "
   ]
  },
  {
   "cell_type": "markdown",
   "metadata": {},
   "source": [
    "### Add as an axiom the definition of sq_below_n/1 and verify the program and specification i.e definition of sqrt_flr."
   ]
  },
  {
   "cell_type": "code",
   "execution_count": 19,
   "metadata": {},
   "outputs": [
    {
     "name": "stdout",
     "output_type": "stream",
     "text": [
      "Overwriting sqrt_flr.lemmas\n"
     ]
    }
   ],
   "source": [
    "%%writefile sqrt_flr.lemmas\n",
    "axiom: forall X (sq_below_n(X) <-> exists N (X = N and N >= 0 and N * N <= n ))."
   ]
  },
  {
   "cell_type": "code",
   "execution_count": 20,
   "metadata": {},
   "outputs": [
    {
     "name": "stdout",
     "output_type": "stream",
     "text": [
      "\u001b[0m\u001b[0m\u001b[1m\u001b[32m     Started \u001b[0m\u001b[0m\u001b[0mverification of specification from translated program\u001b[0m\n",
      "\u001b[0m\u001b[0m\u001b[1m\u001b[32m Presupposed \u001b[0m\u001b[0m\u001b[0maxiom: \u001b[0mforall X (sq_below_n(X) <-> exists N (X = N and N >= 0 and N * N <= n))\n",
      "\u001b[0m\u001b[0m\u001b[1m\u001b[32m Presupposed \u001b[0m\u001b[0m\u001b[0massumption: \u001b[0mn >= 0\n",
      "\u001b[0m\u001b[0m\u001b[1m\u001b[32m Presupposed \u001b[0m\u001b[0m\u001b[0mcompleted definition of sq_below_n/1: \u001b[0mforall X1 (sq_below_n(X1) <-> exists N1 (0 <= N1 and N1 <= n and X1 = N1) and exists X2 (exists N2, N3 (X2 = N2 * N3 and N2 = X1 and N3 = X1) and X2 <= n))\n",
      "\u001b[0m\u001b[0m\u001b[1m\u001b[32m Presupposed \u001b[0m\u001b[0m\u001b[0mcompleted definition of sqrt_flr/1: \u001b[0mforall X1 (sqrt_flr(X1) <-> sq_below_n(X1) and exists X2 (exists N (X2 = N + 1 and N = X1) and not sq_below_n(X2)))\n",
      "\u001b[s\u001b[0m\u001b[0m\u001b[1m\u001b[36m   Verifying \u001b[0m\u001b[0m\u001b[0mspec: \u001b[0mforall X (sqrt_flr(X) -> exists N X = N)\u001b[u\u001b[2K\u001b[0m\u001b[0m\u001b[1m\u001b[32m    Verified \u001b[0m\u001b[0m\u001b[0mspec: \u001b[0mforall X (sqrt_flr(X) -> exists N X = N)\u001b[0m\u001b[0m\u001b[38;5;8m in 0.033 seconds\u001b[0m\u001b[0m\u001b[0m\u001b[0m\n",
      "\u001b[s\u001b[0m\u001b[0m\u001b[1m\u001b[36m   Verifying \u001b[0m\u001b[0m\u001b[0mspec: \u001b[0mforall N (sqrt_flr(N) <-> N >= 0 and N * N <= n and (N + 1) * (N + 1) > n)\u001b[u\u001b[2K\u001b[0m\u001b[0m\u001b[1m\u001b[32m    Verified \u001b[0m\u001b[0m\u001b[0mspec: \u001b[0mforall N (sqrt_flr(N) <-> N >= 0 and N * N <= n and (N + 1) * (N + 1) > n)\u001b[0m\u001b[0m\u001b[38;5;8m in 2.632 seconds\u001b[0m\u001b[0m\u001b[0m\u001b[0m\n",
      "\u001b[s\u001b[0m\u001b[0m\u001b[1m\u001b[36m   Verifying \u001b[0m\u001b[0m\u001b[0mspec: \u001b[0mforall N (sqrt_flr(N) <-> N >= 0 and N * N <= n and (N + 1) * (N + 1) > n)\u001b[u\u001b[2K\u001b[0m\u001b[0m\u001b[1m\u001b[32m    Verified \u001b[0m\u001b[0m\u001b[0mspec: \u001b[0mforall N (sqrt_flr(N) <-> N >= 0 and N * N <= n and (N + 1) * (N + 1) > n)\u001b[0m\u001b[0m\u001b[38;5;8m in 0.061 seconds\u001b[0m\u001b[0m\u001b[0m\u001b[0m\n",
      "\u001b[0m\u001b[0m\u001b[1m\u001b[32m    Finished \u001b[0mverification of specification from translated program\n",
      "\n",
      "\u001b[0m\u001b[0m\u001b[1m\u001b[32m     Started \u001b[0m\u001b[0m\u001b[0mverification of translated program from specification\u001b[0m\n",
      "\u001b[0m\u001b[0m\u001b[1m\u001b[32m Presupposed \u001b[0m\u001b[0m\u001b[0maxiom: \u001b[0mforall X (sq_below_n(X) <-> exists N (X = N and N >= 0 and N * N <= n))\n",
      "\u001b[0m\u001b[0m\u001b[1m\u001b[32m Presupposed \u001b[0m\u001b[0m\u001b[0massumption: \u001b[0mn >= 0\n",
      "\u001b[0m\u001b[0m\u001b[1m\u001b[32m Presupposed \u001b[0m\u001b[0m\u001b[0mcompleted definition of sq_below_n/1: \u001b[0mforall X1 (sq_below_n(X1) <-> exists N1 (0 <= N1 and N1 <= n and X1 = N1) and exists X2 (exists N2, N3 (X2 = N2 * N3 and N2 = X1 and N3 = X1) and X2 <= n))\n",
      "\u001b[0m\u001b[0m\u001b[1m\u001b[32m Presupposed \u001b[0m\u001b[0m\u001b[0mspec: \u001b[0mforall X (sqrt_flr(X) -> exists N X = N)\n",
      "\u001b[0m\u001b[0m\u001b[1m\u001b[32m Presupposed \u001b[0m\u001b[0m\u001b[0mspec: \u001b[0mforall N (sqrt_flr(N) <-> N >= 0 and N * N <= n and (N + 1) * (N + 1) > n)\n",
      "\u001b[0m\u001b[0m\u001b[1m\u001b[32m Presupposed \u001b[0m\u001b[0m\u001b[0mspec: \u001b[0mforall N (sqrt_flr(N) <-> N >= 0 and N * N <= n and (N + 1) * (N + 1) > n)\n",
      "\u001b[s\u001b[0m\u001b[0m\u001b[1m\u001b[36m   Verifying \u001b[0m\u001b[0m\u001b[0mcompleted definition of sqrt_flr/1: \u001b[0mforall X1 (sqrt_flr(X1) <-> sq_below_n(X1) and exists X2 (exists N (X2 = N + 1 and N = X1) and not sq_below_n(X2)))\u001b[u\u001b[2K\u001b[0m\u001b[0m\u001b[1m\u001b[32m    Verified \u001b[0m\u001b[0m\u001b[0mcompleted definition of sqrt_flr/1: \u001b[0mforall X1 (sqrt_flr(X1) <-> sq_below_n(X1) and exists X2 (exists N (X2 = N + 1 and N = X1) and not sq_below_n(X2)))\u001b[0m\u001b[0m\u001b[38;5;8m in 15.991 seconds\u001b[0m\u001b[0m\u001b[0m\u001b[0m\n",
      "\u001b[0m\u001b[0m\u001b[1m\u001b[32m    Finished \u001b[0mverification of translated program from specification\n"
     ]
    }
   ],
   "source": [
    "!anthem verify-program sqrt_flr.{lp,spec,lemmas} "
   ]
  },
  {
   "cell_type": "markdown",
   "metadata": {},
   "source": [
    "### Verify the added  axiom: sq_below_n/1 definition"
   ]
  },
  {
   "cell_type": "code",
   "execution_count": 21,
   "metadata": {},
   "outputs": [
    {
     "name": "stdout",
     "output_type": "stream",
     "text": [
      "Overwriting sqrt_flr.lemmas\n"
     ]
    }
   ],
   "source": [
    "%%writefile sqrt_flr.lemmas\n",
    "lemma(forward): forall X (sq_below_n(X) <-> exists N (X = N and N >= 0 and N * N <= n ))."
   ]
  },
  {
   "cell_type": "code",
   "execution_count": 22,
   "metadata": {},
   "outputs": [
    {
     "name": "stdout",
     "output_type": "stream",
     "text": [
      "\u001b[0m\u001b[0m\u001b[1m\u001b[32m     Started \u001b[0m\u001b[0m\u001b[0mverification of specification from translated program\u001b[0m\n",
      "\u001b[0m\u001b[0m\u001b[1m\u001b[32m Presupposed \u001b[0m\u001b[0m\u001b[0massumption: \u001b[0mn >= 0\n",
      "\u001b[0m\u001b[0m\u001b[1m\u001b[32m Presupposed \u001b[0m\u001b[0m\u001b[0mcompleted definition of sq_below_n/1: \u001b[0mforall X1 (sq_below_n(X1) <-> exists N1 (0 <= N1 and N1 <= n and X1 = N1) and exists X2 (exists N2, N3 (X2 = N2 * N3 and N2 = X1 and N3 = X1) and X2 <= n))\n",
      "\u001b[0m\u001b[0m\u001b[1m\u001b[32m Presupposed \u001b[0m\u001b[0m\u001b[0mcompleted definition of sqrt_flr/1: \u001b[0mforall X1 (sqrt_flr(X1) <-> sq_below_n(X1) and exists X2 (exists N (X2 = N + 1 and N = X1) and not sq_below_n(X2)))\n",
      "\u001b[s\u001b[0m\u001b[0m\u001b[1m\u001b[36m   Verifying \u001b[0m\u001b[0m\u001b[0mlemma: \u001b[0mforall X (sq_below_n(X) <-> exists N (X = N and N >= 0 and N * N <= n))\u001b[u\u001b[2K\u001b[0m\u001b[0m\u001b[1m\u001b[33m   Verifying \u001b[0m\u001b[0m\u001b[0mlemma: \u001b[0mforall X (sq_below_n(X) <-> exists N (X = N and N >= 0 and N * N <= n)) (not proven)\u001b[0m\u001b[0m\u001b[0m\n",
      "\u001b[0m\u001b[0m\u001b[1m\u001b[33m    Finished \u001b[0mverification of specification from translated program\n",
      "\n",
      "\u001b[0m\u001b[0m\u001b[1m\u001b[32m     Started \u001b[0m\u001b[0m\u001b[0mverification of translated program from specification\u001b[0m\n",
      "\u001b[0m\u001b[0m\u001b[1m\u001b[32m Presupposed \u001b[0m\u001b[0m\u001b[0massumption: \u001b[0mn >= 0\n",
      "\u001b[0m\u001b[0m\u001b[1m\u001b[32m Presupposed \u001b[0m\u001b[0m\u001b[0mcompleted definition of sq_below_n/1: \u001b[0mforall X1 (sq_below_n(X1) <-> exists N1 (0 <= N1 and N1 <= n and X1 = N1) and exists X2 (exists N2, N3 (X2 = N2 * N3 and N2 = X1 and N3 = X1) and X2 <= n))\n",
      "\u001b[0m\u001b[0m\u001b[1m\u001b[32m Presupposed \u001b[0m\u001b[0m\u001b[0mspec: \u001b[0mforall X (sqrt_flr(X) -> exists N X = N)\n",
      "\u001b[0m\u001b[0m\u001b[1m\u001b[32m Presupposed \u001b[0m\u001b[0m\u001b[0mspec: \u001b[0mforall N (sqrt_flr(N) <-> N >= 0 and N * N <= n and (N + 1) * (N + 1) > n)\n",
      "\u001b[0m\u001b[0m\u001b[1m\u001b[32m Presupposed \u001b[0m\u001b[0m\u001b[0mspec: \u001b[0mforall N (sqrt_flr(N) <-> N >= 0 and N * N <= n and (N + 1) * (N + 1) > n)\n",
      "\u001b[s\u001b[0m\u001b[0m\u001b[1m\u001b[36m   Verifying \u001b[0m\u001b[0m\u001b[0mcompleted definition of sqrt_flr/1: \u001b[0mforall X1 (sqrt_flr(X1) <-> sq_below_n(X1) and exists X2 (exists N (X2 = N + 1 and N = X1) and not sq_below_n(X2)))\u001b[u\u001b[2K\u001b[0m\u001b[0m\u001b[1m\u001b[33m   Verifying \u001b[0m\u001b[0m\u001b[0mcompleted definition of sqrt_flr/1: \u001b[0mforall X1 (sqrt_flr(X1) <-> sq_below_n(X1) and exists X2 (exists N (X2 = N + 1 and N = X1) and not sq_below_n(X2))) (not proven)\u001b[0m\u001b[0m\u001b[0m\n",
      "\u001b[0m\u001b[0m\u001b[1m\u001b[33m    Finished \u001b[0mverification of translated program from specification\n"
     ]
    }
   ],
   "source": [
    "!anthem verify-program sqrt_flr.{lp,spec,lemmas} "
   ]
  },
  {
   "cell_type": "markdown",
   "metadata": {},
   "source": [
    "### Add axiom: If the square of a whole number is less than n then the whole number is less than n."
   ]
  },
  {
   "cell_type": "code",
   "execution_count": 23,
   "metadata": {},
   "outputs": [
    {
     "name": "stdout",
     "output_type": "stream",
     "text": [
      "Appending to sqrt_flr.lemmas\n"
     ]
    }
   ],
   "source": [
    "%%writefile -a sqrt_flr.lemmas\n",
    "axiom: forall N (N >=0 and N*N <=n -> N<=n )."
   ]
  },
  {
   "cell_type": "code",
   "execution_count": 24,
   "metadata": {},
   "outputs": [
    {
     "name": "stdout",
     "output_type": "stream",
     "text": [
      "\u001b[0m\u001b[0m\u001b[1m\u001b[32m     Started \u001b[0m\u001b[0m\u001b[0mverification of specification from translated program\u001b[0m\n",
      "\u001b[0m\u001b[0m\u001b[1m\u001b[32m Presupposed \u001b[0m\u001b[0m\u001b[0maxiom: \u001b[0mforall N (N >= 0 and N * N <= n -> N <= n)\n",
      "\u001b[0m\u001b[0m\u001b[1m\u001b[32m Presupposed \u001b[0m\u001b[0m\u001b[0massumption: \u001b[0mn >= 0\n",
      "\u001b[0m\u001b[0m\u001b[1m\u001b[32m Presupposed \u001b[0m\u001b[0m\u001b[0mcompleted definition of sq_below_n/1: \u001b[0mforall X1 (sq_below_n(X1) <-> exists N1 (0 <= N1 and N1 <= n and X1 = N1) and exists X2 (exists N2, N3 (X2 = N2 * N3 and N2 = X1 and N3 = X1) and X2 <= n))\n",
      "\u001b[0m\u001b[0m\u001b[1m\u001b[32m Presupposed \u001b[0m\u001b[0m\u001b[0mcompleted definition of sqrt_flr/1: \u001b[0mforall X1 (sqrt_flr(X1) <-> sq_below_n(X1) and exists X2 (exists N (X2 = N + 1 and N = X1) and not sq_below_n(X2)))\n",
      "\u001b[s\u001b[0m\u001b[0m\u001b[1m\u001b[36m   Verifying \u001b[0m\u001b[0m\u001b[0mlemma: \u001b[0mforall X (sq_below_n(X) <-> exists N (X = N and N >= 0 and N * N <= n))\u001b[u\u001b[2K\u001b[0m\u001b[0m\u001b[1m\u001b[32m    Verified \u001b[0m\u001b[0m\u001b[0mlemma: \u001b[0mforall X (sq_below_n(X) <-> exists N (X = N and N >= 0 and N * N <= n))\u001b[0m\u001b[0m\u001b[38;5;8m in 0.079 seconds\u001b[0m\u001b[0m\u001b[0m\u001b[0m\n",
      "\u001b[s\u001b[0m\u001b[0m\u001b[1m\u001b[36m   Verifying \u001b[0m\u001b[0m\u001b[0mspec: \u001b[0mforall X (sqrt_flr(X) -> exists N X = N)\u001b[u\u001b[2K\u001b[0m\u001b[0m\u001b[1m\u001b[32m    Verified \u001b[0m\u001b[0m\u001b[0mspec: \u001b[0mforall X (sqrt_flr(X) -> exists N X = N)\u001b[0m\u001b[0m\u001b[38;5;8m in 0.029 seconds\u001b[0m\u001b[0m\u001b[0m\u001b[0m\n",
      "\u001b[s\u001b[0m\u001b[0m\u001b[1m\u001b[36m   Verifying \u001b[0m\u001b[0m\u001b[0mspec: \u001b[0mforall N (sqrt_flr(N) <-> N >= 0 and N * N <= n and (N + 1) * (N + 1) > n)\u001b[u\u001b[2K\u001b[0m\u001b[0m\u001b[1m\u001b[32m    Verified \u001b[0m\u001b[0m\u001b[0mspec: \u001b[0mforall N (sqrt_flr(N) <-> N >= 0 and N * N <= n and (N + 1) * (N + 1) > n)\u001b[0m\u001b[0m\u001b[38;5;8m in 1.835 seconds\u001b[0m\u001b[0m\u001b[0m\u001b[0m\n",
      "\u001b[s\u001b[0m\u001b[0m\u001b[1m\u001b[36m   Verifying \u001b[0m\u001b[0m\u001b[0mspec: \u001b[0mforall N (sqrt_flr(N) <-> N >= 0 and N * N <= n and (N + 1) * (N + 1) > n)\u001b[u\u001b[2K\u001b[0m\u001b[0m\u001b[1m\u001b[32m    Verified \u001b[0m\u001b[0m\u001b[0mspec: \u001b[0mforall N (sqrt_flr(N) <-> N >= 0 and N * N <= n and (N + 1) * (N + 1) > n)\u001b[0m\u001b[0m\u001b[38;5;8m in 0.051 seconds\u001b[0m\u001b[0m\u001b[0m\u001b[0m\n",
      "\u001b[0m\u001b[0m\u001b[1m\u001b[32m    Finished \u001b[0mverification of specification from translated program\n",
      "\n",
      "\u001b[0m\u001b[0m\u001b[1m\u001b[32m     Started \u001b[0m\u001b[0m\u001b[0mverification of translated program from specification\u001b[0m\n",
      "\u001b[0m\u001b[0m\u001b[1m\u001b[32m Presupposed \u001b[0m\u001b[0m\u001b[0maxiom: \u001b[0mforall N (N >= 0 and N * N <= n -> N <= n)\n",
      "\u001b[0m\u001b[0m\u001b[1m\u001b[32m Presupposed \u001b[0m\u001b[0m\u001b[0massumption: \u001b[0mn >= 0\n",
      "\u001b[0m\u001b[0m\u001b[1m\u001b[32m Presupposed \u001b[0m\u001b[0m\u001b[0mcompleted definition of sq_below_n/1: \u001b[0mforall X1 (sq_below_n(X1) <-> exists N1 (0 <= N1 and N1 <= n and X1 = N1) and exists X2 (exists N2, N3 (X2 = N2 * N3 and N2 = X1 and N3 = X1) and X2 <= n))\n",
      "\u001b[0m\u001b[0m\u001b[1m\u001b[32m Presupposed \u001b[0m\u001b[0m\u001b[0mspec: \u001b[0mforall X (sqrt_flr(X) -> exists N X = N)\n",
      "\u001b[0m\u001b[0m\u001b[1m\u001b[32m Presupposed \u001b[0m\u001b[0m\u001b[0mspec: \u001b[0mforall N (sqrt_flr(N) <-> N >= 0 and N * N <= n and (N + 1) * (N + 1) > n)\n",
      "\u001b[0m\u001b[0m\u001b[1m\u001b[32m Presupposed \u001b[0m\u001b[0m\u001b[0mspec: \u001b[0mforall N (sqrt_flr(N) <-> N >= 0 and N * N <= n and (N + 1) * (N + 1) > n)\n",
      "\u001b[s\u001b[0m\u001b[0m\u001b[1m\u001b[36m   Verifying \u001b[0m\u001b[0m\u001b[0mcompleted definition of sqrt_flr/1: \u001b[0mforall X1 (sqrt_flr(X1) <-> sq_below_n(X1) and exists X2 (exists N (X2 = N + 1 and N = X1) and not sq_below_n(X2)))\u001b[u\u001b[2K\u001b[0m\u001b[0m\u001b[1m\u001b[32m    Verified \u001b[0m\u001b[0m\u001b[0mcompleted definition of sqrt_flr/1: \u001b[0mforall X1 (sqrt_flr(X1) <-> sq_below_n(X1) and exists X2 (exists N (X2 = N + 1 and N = X1) and not sq_below_n(X2)))\u001b[0m\u001b[0m\u001b[38;5;8m in 23.652 seconds\u001b[0m\u001b[0m\u001b[0m\u001b[0m\n",
      "\u001b[0m\u001b[0m\u001b[1m\u001b[32m    Finished \u001b[0mverification of translated program from specification\n"
     ]
    }
   ],
   "source": [
    "!anthem verify-program sqrt_flr.{lp,spec,lemmas} "
   ]
  }
 ],
 "metadata": {
  "kernelspec": {
   "display_name": "Python 3",
   "language": "python",
   "name": "python3"
  },
  "language_info": {
   "codemirror_mode": {
    "name": "ipython",
    "version": 3
   },
   "file_extension": ".py",
   "mimetype": "text/x-python",
   "name": "python",
   "nbconvert_exporter": "python",
   "pygments_lexer": "ipython3",
   "version": "3.7.7"
  }
 },
 "nbformat": 4,
 "nbformat_minor": 2
}
